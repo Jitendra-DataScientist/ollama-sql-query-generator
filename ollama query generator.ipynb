{
 "cells": [
  {
   "cell_type": "code",
   "execution_count": 2,
   "id": "b72bd330",
   "metadata": {
    "scrolled": true
   },
   "outputs": [
    {
     "name": "stdout",
     "output_type": "stream",
     "text": [
      "Collecting ollama\n",
      "  Downloading ollama-0.5.1-py3-none-any.whl (13 kB)\n",
      "Requirement already satisfied: httpx>=0.27 in c:\\users\\cools\\anaconda3\\lib\\site-packages (from ollama) (0.28.1)\n",
      "Requirement already satisfied: pydantic>=2.9 in c:\\users\\cools\\anaconda3\\lib\\site-packages (from ollama) (2.10.6)\n",
      "Requirement already satisfied: httpcore==1.* in c:\\users\\cools\\anaconda3\\lib\\site-packages (from httpx>=0.27->ollama) (1.0.7)\n",
      "Requirement already satisfied: certifi in c:\\users\\cools\\anaconda3\\lib\\site-packages (from httpx>=0.27->ollama) (2022.9.14)\n",
      "Requirement already satisfied: idna in c:\\users\\cools\\anaconda3\\lib\\site-packages (from httpx>=0.27->ollama) (3.3)\n",
      "Requirement already satisfied: anyio in c:\\users\\cools\\anaconda3\\lib\\site-packages (from httpx>=0.27->ollama) (3.5.0)\n",
      "Requirement already satisfied: h11<0.15,>=0.13 in c:\\users\\cools\\anaconda3\\lib\\site-packages (from httpcore==1.*->httpx>=0.27->ollama) (0.14.0)\n",
      "Requirement already satisfied: typing-extensions>=4.12.2 in c:\\users\\cools\\anaconda3\\lib\\site-packages (from pydantic>=2.9->ollama) (4.12.2)\n",
      "Requirement already satisfied: pydantic-core==2.27.2 in c:\\users\\cools\\anaconda3\\lib\\site-packages (from pydantic>=2.9->ollama) (2.27.2)\n",
      "Requirement already satisfied: annotated-types>=0.6.0 in c:\\users\\cools\\anaconda3\\lib\\site-packages (from pydantic>=2.9->ollama) (0.7.0)\n",
      "Requirement already satisfied: sniffio>=1.1 in c:\\users\\cools\\anaconda3\\lib\\site-packages (from anyio->httpx>=0.27->ollama) (1.2.0)\n",
      "Installing collected packages: ollama\n",
      "Successfully installed ollama-0.5.1\n",
      "Note: you may need to restart the kernel to use updated packages.\n"
     ]
    }
   ],
   "source": [
    "pip install ollama"
   ]
  },
  {
   "cell_type": "code",
   "execution_count": 9,
   "id": "37e7708c",
   "metadata": {},
   "outputs": [
    {
     "name": "stdout",
     "output_type": "stream",
     "text": [
      "Hello there! How can I help you today? 😊 \n",
      "\n",
      "Do you want to:\n",
      "\n",
      "*   Chat about something?\n",
      "*   Ask me a question?\n",
      "*   Play a game?\n",
      "*   Get some information?\n",
      "\n",
      "Just let me know what you're thinking!\n"
     ]
    },
    {
     "data": {
      "text/plain": [
       "6.759187936782837"
      ]
     },
     "execution_count": 9,
     "metadata": {},
     "output_type": "execute_result"
    }
   ],
   "source": [
    "from ollama import chat\n",
    "import time\n",
    "t1 = time.time()\n",
    "response = chat(\n",
    "    model='gemma3',\n",
    "    messages=[{'role': 'user', 'content': 'Hello!'}],\n",
    ")\n",
    "print(response.message.content)\n",
    "t2 = time.time()\n",
    "t2-t1"
   ]
  },
  {
   "cell_type": "code",
   "execution_count": 10,
   "id": "a2d16ef3",
   "metadata": {},
   "outputs": [
    {
     "name": "stdout",
     "output_type": "stream",
     "text": [
      "Hello there! How can I help you today? 😊 \n",
      "\n",
      "Do you have any questions for me, or was there anything you’d like to chat about?\n"
     ]
    },
    {
     "data": {
      "text/plain": [
       "1.4465980529785156"
      ]
     },
     "execution_count": 10,
     "metadata": {},
     "output_type": "execute_result"
    }
   ],
   "source": [
    "t1 = time.time()\n",
    "\n",
    "response = chat(\n",
    "    model='gemma3:1b',\n",
    "    messages=[{'role': 'user', 'content': 'Hello!'}],\n",
    ")\n",
    "print(response.message.content)\n",
    "t2 = time.time()\n",
    "t2-t1\n"
   ]
  },
  {
   "cell_type": "code",
   "execution_count": 12,
   "id": "3955a23c",
   "metadata": {
    "scrolled": true
   },
   "outputs": [
    {
     "name": "stdout",
     "output_type": "stream",
     "text": [
      "Collecting fastapi\n",
      "  Downloading fastapi-0.116.1-py3-none-any.whl (95 kB)\n",
      "     -------------------------------------- 95.6/95.6 kB 389.9 kB/s eta 0:00:00\n",
      "Requirement already satisfied: pydantic!=1.8,!=1.8.1,!=2.0.0,!=2.0.1,!=2.1.0,<3.0.0,>=1.7.4 in c:\\users\\cools\\anaconda3\\lib\\site-packages (from fastapi) (2.10.6)\n",
      "Collecting starlette<0.48.0,>=0.40.0\n",
      "  Downloading starlette-0.47.2-py3-none-any.whl (72 kB)\n",
      "     ---------------------------------------- 73.0/73.0 kB 4.2 MB/s eta 0:00:00\n",
      "Requirement already satisfied: typing-extensions>=4.8.0 in c:\\users\\cools\\anaconda3\\lib\\site-packages (from fastapi) (4.12.2)\n",
      "Requirement already satisfied: pydantic-core==2.27.2 in c:\\users\\cools\\anaconda3\\lib\\site-packages (from pydantic!=1.8,!=1.8.1,!=2.0.0,!=2.0.1,!=2.1.0,<3.0.0,>=1.7.4->fastapi) (2.27.2)\n",
      "Requirement already satisfied: annotated-types>=0.6.0 in c:\\users\\cools\\anaconda3\\lib\\site-packages (from pydantic!=1.8,!=1.8.1,!=2.0.0,!=2.0.1,!=2.1.0,<3.0.0,>=1.7.4->fastapi) (0.7.0)\n",
      "Collecting anyio<5,>=3.6.2\n",
      "  Downloading anyio-4.9.0-py3-none-any.whl (100 kB)\n",
      "     -------------------------------------- 100.9/100.9 kB 2.8 MB/s eta 0:00:00\n",
      "Collecting exceptiongroup>=1.0.2\n",
      "  Downloading exceptiongroup-1.3.0-py3-none-any.whl (16 kB)\n",
      "Requirement already satisfied: sniffio>=1.1 in c:\\users\\cools\\anaconda3\\lib\\site-packages (from anyio<5,>=3.6.2->starlette<0.48.0,>=0.40.0->fastapi) (1.2.0)\n",
      "Requirement already satisfied: idna>=2.8 in c:\\users\\cools\\anaconda3\\lib\\site-packages (from anyio<5,>=3.6.2->starlette<0.48.0,>=0.40.0->fastapi) (3.3)\n",
      "Installing collected packages: exceptiongroup, anyio, starlette, fastapi\n",
      "  Attempting uninstall: anyio\n",
      "    Found existing installation: anyio 3.5.0\n",
      "    Uninstalling anyio-3.5.0:\n",
      "      Successfully uninstalled anyio-3.5.0\n",
      "Successfully installed anyio-4.9.0 exceptiongroup-1.3.0 fastapi-0.116.1 starlette-0.47.2\n",
      "Note: you may need to restart the kernel to use updated packages.\n"
     ]
    },
    {
     "name": "stderr",
     "output_type": "stream",
     "text": [
      "ERROR: pip's dependency resolver does not currently take into account all the packages that are installed. This behaviour is the source of the following dependency conflicts.\n",
      "jupyter-server 1.18.1 requires anyio<4,>=3.1.0, but you have anyio 4.9.0 which is incompatible.\n"
     ]
    }
   ],
   "source": [
    "pip install fastapi"
   ]
  },
  {
   "cell_type": "code",
   "execution_count": 17,
   "id": "4be28e3f",
   "metadata": {},
   "outputs": [
    {
     "name": "stdout",
     "output_type": "stream",
     "text": [
      "Collecting uvicorn\n",
      "  Downloading uvicorn-0.35.0-py3-none-any.whl (66 kB)\n",
      "     -------------------------------------- 66.4/66.4 kB 891.5 kB/s eta 0:00:00\n",
      "Requirement already satisfied: h11>=0.8 in c:\\users\\cools\\anaconda3\\lib\\site-packages (from uvicorn) (0.14.0)\n",
      "Requirement already satisfied: click>=7.0 in c:\\users\\cools\\anaconda3\\lib\\site-packages (from uvicorn) (8.0.4)\n",
      "Requirement already satisfied: typing-extensions>=4.0 in c:\\users\\cools\\anaconda3\\lib\\site-packages (from uvicorn) (4.12.2)\n",
      "Requirement already satisfied: colorama in c:\\users\\cools\\anaconda3\\lib\\site-packages (from click>=7.0->uvicorn) (0.4.5)\n",
      "Installing collected packages: uvicorn\n",
      "Successfully installed uvicorn-0.35.0\n",
      "Note: you may need to restart the kernel to use updated packages.\n"
     ]
    }
   ],
   "source": [
    "pip install uvicorn"
   ]
  },
  {
   "cell_type": "code",
   "execution_count": 19,
   "id": "8a836373",
   "metadata": {},
   "outputs": [
    {
     "name": "stderr",
     "output_type": "stream",
     "text": [
      "INFO:     Will watch for changes in these directories: ['C:\\\\Users\\\\cools\\\\Desktop']\n",
      "INFO:     Uvicorn running on http://127.0.0.1:8000 (Press CTRL+C to quit)\n",
      "INFO:     Started reloader process [4780] using StatReload\n",
      "INFO:     Stopping reloader process [4780]\n"
     ]
    }
   ],
   "source": [
    "from fastapi import FastAPI, HTTPException\n",
    "from pydantic import BaseModel, Field\n",
    "from ollama import chat\n",
    "\n",
    "app = FastAPI()\n",
    "\n",
    "\n",
    "class QueryRequest(BaseModel):\n",
    "    schema_: str = Field(..., alias=\"schema\")\n",
    "    question: str\n",
    "\n",
    "@app.post(\"/generate-sql\")\n",
    "async def generate_sql(request: QueryRequest):\n",
    "    prompt = f\"\"\"\n",
    "            You are an expert SQL developer. Given the following database schema:\n",
    "\n",
    "            {request.schema}\n",
    "\n",
    "            Write a SQL query that answers the following question:\n",
    "\n",
    "            {request.question}\n",
    "\n",
    "            Only return the SQL query. Do not include any explanation.\n",
    "            \"\"\"\n",
    "\n",
    "    try:\n",
    "        response = chat(\n",
    "            model='gemma3',\n",
    "            messages=[\n",
    "                {\"role\": \"user\", \"content\": prompt}\n",
    "            ]\n",
    "        )\n",
    "        return {\"sql_query\": response['message']['content'].strip()}\n",
    "    except Exception as e:\n",
    "        raise HTTPException(status_code=500, detail=str(e))\n",
    "\n",
    "\n",
    "if __name__ == \"__main__\":\n",
    "    import uvicorn\n",
    "    uvicorn.run(\"your_module_name:app\", port=8000, reload=True)\n"
   ]
  },
  {
   "cell_type": "code",
   "execution_count": null,
   "id": "58f5478b",
   "metadata": {},
   "outputs": [],
   "source": []
  }
 ],
 "metadata": {
  "kernelspec": {
   "display_name": "Python 3 (ipykernel)",
   "language": "python",
   "name": "python3"
  },
  "language_info": {
   "codemirror_mode": {
    "name": "ipython",
    "version": 3
   },
   "file_extension": ".py",
   "mimetype": "text/x-python",
   "name": "python",
   "nbconvert_exporter": "python",
   "pygments_lexer": "ipython3",
   "version": "3.9.13"
  }
 },
 "nbformat": 4,
 "nbformat_minor": 5
}
